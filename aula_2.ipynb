{
  "nbformat": 4,
  "nbformat_minor": 0,
  "metadata": {
    "colab": {
      "provenance": [],
      "toc_visible": true
    },
    "kernelspec": {
      "name": "python3",
      "display_name": "Python 3"
    },
    "language_info": {
      "name": "python"
    }
  },
  "cells": [
    {
      "cell_type": "code",
      "execution_count": null,
      "metadata": {
        "colab": {
          "base_uri": "https://localhost:8080/"
        },
        "id": "VLBkgunxNvTX",
        "outputId": "f21c8250-7b55-44f1-d5a8-8d8e3d849c0d"
      },
      "outputs": [
        {
          "output_type": "stream",
          "name": "stdout",
          "text": [
            "REFRIGERENATE: \n"
          ]
        }
      ],
      "source": [
        "produto = \"Refrigerenate: \"\n",
        "result = produto.upper()\n",
        "print(result)"
      ]
    },
    {
      "cell_type": "code",
      "source": [
        "produto = \"REFRIGERENATE: \"\n",
        "result = produto.lower()\n",
        "print(result)"
      ],
      "metadata": {
        "colab": {
          "base_uri": "https://localhost:8080/"
        },
        "id": "n7-7TpLtQIE3",
        "outputId": "acda84b3-63c6-4643-fb25-6fe1391ae3a9"
      },
      "execution_count": null,
      "outputs": [
        {
          "output_type": "stream",
          "name": "stdout",
          "text": [
            "refrigerenate: \n"
          ]
        }
      ]
    },
    {
      "cell_type": "code",
      "source": [
        "produto = \"Refrigerante\"\n",
        "print(produto[1])"
      ],
      "metadata": {
        "colab": {
          "base_uri": "https://localhost:8080/"
        },
        "id": "X42f2yNeSvkP",
        "outputId": "d8cbce84-ebdb-40a1-95ef-ae205e348297"
      },
      "execution_count": null,
      "outputs": [
        {
          "output_type": "stream",
          "name": "stdout",
          "text": [
            "e\n"
          ]
        }
      ]
    },
    {
      "cell_type": "code",
      "source": [
        "produto = \"Refrigerante\"\n",
        "print(produto[0:5].upper())"
      ],
      "metadata": {
        "colab": {
          "base_uri": "https://localhost:8080/"
        },
        "id": "-MPqi6vhSxZn",
        "outputId": "45844c1b-a624-40c5-c27c-1c4a36a8a798"
      },
      "execution_count": null,
      "outputs": [
        {
          "output_type": "stream",
          "name": "stdout",
          "text": [
            "REFRI\n"
          ]
        }
      ]
    },
    {
      "cell_type": "code",
      "source": [
        "produto = \"Refrigerante\"\n",
        "print(produto.upper()[0:5])"
      ],
      "metadata": {
        "colab": {
          "base_uri": "https://localhost:8080/"
        },
        "id": "SEFsHxg-TP89",
        "outputId": "178dbea5-e4a5-4f7a-a71a-88162c59f5f1"
      },
      "execution_count": null,
      "outputs": [
        {
          "output_type": "stream",
          "name": "stdout",
          "text": [
            "REFRI\n"
          ]
        }
      ]
    },
    {
      "cell_type": "code",
      "source": [
        "produto = \"Refrigerante\"\n",
        "print(produto[-11])"
      ],
      "metadata": {
        "colab": {
          "base_uri": "https://localhost:8080/"
        },
        "id": "gtknp8S4TaXE",
        "outputId": "cb92bd91-246e-4d7e-9fae-ffdf617ed80a"
      },
      "execution_count": null,
      "outputs": [
        {
          "output_type": "stream",
          "name": "stdout",
          "text": [
            "e\n"
          ]
        }
      ]
    },
    {
      "cell_type": "code",
      "source": [
        "produto = \"Refrigerante\"\n",
        "print(produto[0:-7])"
      ],
      "metadata": {
        "colab": {
          "base_uri": "https://localhost:8080/"
        },
        "id": "NYNCUjsqTkr8",
        "outputId": "d941a631-20d6-4af4-ff71-53387ef00ed6"
      },
      "execution_count": null,
      "outputs": [
        {
          "output_type": "stream",
          "name": "stdout",
          "text": [
            "Refri\n"
          ]
        }
      ]
    },
    {
      "cell_type": "code",
      "source": [
        "produto = \"Refrigerante sem açúcar e com açúcar\"\n",
        "print(produto.find('açúcar'))"
      ],
      "metadata": {
        "colab": {
          "base_uri": "https://localhost:8080/"
        },
        "id": "r3G3fOOPVJUq",
        "outputId": "93f562b5-622e-4340-a23a-8bf3bfe41e75"
      },
      "execution_count": null,
      "outputs": [
        {
          "output_type": "stream",
          "name": "stdout",
          "text": [
            "-1\n"
          ]
        }
      ]
    },
    {
      "cell_type": "code",
      "source": [
        "descricaoProduto = \"Refrigerante eleborado a partir de água gaseíficada, açúcar, extrato de noz de cola e cafeíma.\"\n",
        "result = descricaoProduto.replace('açúcar', 'sem açúcar') #localizar e substituir\n",
        "print(result)"
      ],
      "metadata": {
        "colab": {
          "base_uri": "https://localhost:8080/"
        },
        "id": "iL5Vfs40Yly_",
        "outputId": "59aa13d3-1c50-4eb0-8fd2-a8fdbf795eaa"
      },
      "execution_count": null,
      "outputs": [
        {
          "output_type": "stream",
          "name": "stdout",
          "text": [
            "Refrigerante eleborado a partir de água gaseíficada, sem açúcar, extrato de noz de cola e cafeíma.\n"
          ]
        }
      ]
    },
    {
      "cell_type": "code",
      "source": [
        "descricaoProduto = \"Refrigerante eleborado a partir de água gaseíficada\"\n",
        "result = descricaoProduto.split(' ') #quebrar frase em palavras\n",
        "print(result)\n",
        "type(result)"
      ],
      "metadata": {
        "colab": {
          "base_uri": "https://localhost:8080/"
        },
        "id": "GQEeWELTci43",
        "outputId": "a2a6d83d-c698-42e4-d5ae-8b7fd7774201"
      },
      "execution_count": null,
      "outputs": [
        {
          "output_type": "stream",
          "name": "stdout",
          "text": [
            "['Refrigerante', 'eleborado', 'a', 'partir', 'de', 'água', 'gaseíficada']\n"
          ]
        },
        {
          "output_type": "execute_result",
          "data": {
            "text/plain": [
              "list"
            ]
          },
          "metadata": {},
          "execution_count": 47
        }
      ]
    },
    {
      "cell_type": "code",
      "source": [
        "nomeCompleto = \"Diego Vergaças\"\n",
        "idade = 38\n",
        "type(idade)"
      ],
      "metadata": {
        "colab": {
          "base_uri": "https://localhost:8080/"
        },
        "id": "iwtgwyi6gIkm",
        "outputId": "12d3721c-a7ad-4fb6-d728-dec420e25c69"
      },
      "execution_count": null,
      "outputs": [
        {
          "output_type": "execute_result",
          "data": {
            "text/plain": [
              "int"
            ]
          },
          "metadata": {},
          "execution_count": 41
        }
      ]
    },
    {
      "cell_type": "markdown",
      "source": [
        "Listas"
      ],
      "metadata": {
        "id": "WhztsY9BsA0J"
      }
    },
    {
      "cell_type": "code",
      "source": [
        "departamento = ['Bebidas', 'Cereais', 'Matinais', 'Padaria', 'Massas', 'Molhos']\n",
        "print(departamento)\n",
        "type(departamento)\n",
        "print(departamento[2])"
      ],
      "metadata": {
        "colab": {
          "base_uri": "https://localhost:8080/"
        },
        "id": "DkN0UKv9rMAo",
        "outputId": "46325ba9-9604-4c23-f73d-fec531aa6917"
      },
      "execution_count": null,
      "outputs": [
        {
          "output_type": "stream",
          "name": "stdout",
          "text": [
            "['Bebidas', 'Cereais', 'Matinais', 'Padaria', 'Massas', 'Molhos']\n",
            "Matinais\n"
          ]
        }
      ]
    },
    {
      "cell_type": "code",
      "source": [
        "departamento.append('Vestiario') #adiciona no final da lista\n",
        "print(departamento)"
      ],
      "metadata": {
        "colab": {
          "base_uri": "https://localhost:8080/"
        },
        "id": "etDsgDAQwJ9y",
        "outputId": "7cd2710b-fba8-45c7-f621-ca5bfbb8b9ef"
      },
      "execution_count": null,
      "outputs": [
        {
          "output_type": "stream",
          "name": "stdout",
          "text": [
            "['Bebidas', 'Cereais', 'Matinais', 'Padaria', 'Massas', 'Molhos', 'Vestiario']\n"
          ]
        }
      ]
    },
    {
      "cell_type": "code",
      "source": [
        "departamento.insert(1, 'Brinquedos') #adiciona em um ponto escolhido\n",
        "print(departamento)"
      ],
      "metadata": {
        "colab": {
          "base_uri": "https://localhost:8080/"
        },
        "id": "Rs3AbxhswfeY",
        "outputId": "4ccad476-adb7-4b7e-e04f-70e71d2ae298"
      },
      "execution_count": null,
      "outputs": [
        {
          "output_type": "stream",
          "name": "stdout",
          "text": [
            "['Bebidas', 'Brinquedos', 'Cereais', 'Matinais', 'Padaria', 'Massas', 'Molhos', 'Vestiario']\n"
          ]
        }
      ]
    },
    {
      "cell_type": "code",
      "source": [
        "del departamento[4] #deleta de uma posição escolhida"
      ],
      "metadata": {
        "id": "zTpAA9aky-Qv"
      },
      "execution_count": null,
      "outputs": []
    },
    {
      "cell_type": "code",
      "source": [
        "print(departamento)"
      ],
      "metadata": {
        "colab": {
          "base_uri": "https://localhost:8080/"
        },
        "id": "Yj6eXSxvzGdn",
        "outputId": "2e35bd56-063f-4e6f-e63a-872dad3cc2d6"
      },
      "execution_count": null,
      "outputs": [
        {
          "output_type": "stream",
          "name": "stdout",
          "text": [
            "['Bebidas', 'Brinquedos', 'Cereais', 'Matinais', 'Massas', 'Molhos', 'Vestiario']\n"
          ]
        }
      ]
    },
    {
      "cell_type": "code",
      "source": [
        "departamento.remove('Cereais') #remove pelo nome do objeto\n",
        "print(departamento)"
      ],
      "metadata": {
        "colab": {
          "base_uri": "https://localhost:8080/"
        },
        "id": "iX2-5tB4zMMG",
        "outputId": "e3787133-73f2-4262-d560-b298bc891c76"
      },
      "execution_count": null,
      "outputs": [
        {
          "output_type": "stream",
          "name": "stdout",
          "text": [
            "['Bebidas', 'Brinquedos', 'Matinais', 'Massas', 'Molhos', 'Vestiario']\n"
          ]
        }
      ]
    },
    {
      "cell_type": "code",
      "source": [],
      "metadata": {
        "id": "y_hWocYQ0ACN"
      },
      "execution_count": null,
      "outputs": []
    }
  ]
}