{
  "nbformat": 4,
  "nbformat_minor": 0,
  "metadata": {
    "colab": {
      "provenance": []
    },
    "kernelspec": {
      "name": "python3",
      "display_name": "Python 3"
    },
    "language_info": {
      "name": "python"
    }
  },
  "cells": [
    {
      "cell_type": "code",
      "execution_count": 36,
      "metadata": {
        "id": "-nS0QeIKVmMd"
      },
      "outputs": [],
      "source": [
        "# /content/drive/MyDrive/SENAC Python/base_produtos.txt --- endereço da arquivo no drive"
      ]
    },
    {
      "cell_type": "code",
      "source": [
        "def criandoArquivo(produto,NomeDoArquivo):\n",
        "  with open(NomeDoArquivo, 'a') as estoque:\n",
        "    estoque.write(produto + '\\n')"
      ],
      "metadata": {
        "id": "gZtHj_kyY06J"
      },
      "execution_count": 37,
      "outputs": []
    },
    {
      "cell_type": "code",
      "source": [
        "# Retornar estoque\n",
        "with open('/content/drive/MyDrive/SENAC Python/base_produtos.txt', 'r', encoding='utf-8') as produtosEstoqueZerado:\n",
        "  produtosTXT = produtosEstoqueZerado.read()"
      ],
      "metadata": {
        "id": "5X3Ic5iCZcaI"
      },
      "execution_count": 38,
      "outputs": []
    },
    {
      "cell_type": "code",
      "source": [
        "# Explodir a string\n",
        "produtos = produtosTXT.split('\\n')"
      ],
      "metadata": {
        "id": "DLELKC7EcL6L"
      },
      "execution_count": 39,
      "outputs": []
    },
    {
      "cell_type": "code",
      "source": [
        "# Removendo o título do arquivo\n",
        "produtosSemTitulo = produtos[1:]\n",
        "semEstoque = 0\n",
        "comEstoque = 0\n",
        "\n",
        "# Percorrer a lista de produtos sem o título\n",
        "for produto in produtosSemTitulo:\n",
        "  prod = str(produto)\n",
        "  texto = prod.split(';')\n",
        "  separador = produto.find(';')\n",
        "  estoque = int(produto[separador + 1 : ])\n",
        "\n",
        "  if estoque == 0:\n",
        "    semEstoque  += 1\n",
        "    criandoArquivo(texto[0], \"SemEstoque.txt\")\n",
        "  else:\n",
        "    comEstoque += 1\n",
        "    produto = texto[0] + \" | \" + str(comEstoque)\n",
        "    criandoArquivo(produto, \"ComEstoque.txt\")\n",
        "\n",
        "total = comEstoque + semEstoque"
      ],
      "metadata": {
        "id": "g6wE3-IedWdD"
      },
      "execution_count": 58,
      "outputs": []
    },
    {
      "cell_type": "code",
      "source": [
        "print(\"Produtos em estoque: \", comEstoque)\n",
        "print(\"Produtos SEM estoque: \", semEstoque)\n",
        "print(\"Total de produtos: \", total)"
      ],
      "metadata": {
        "colab": {
          "base_uri": "https://localhost:8080/"
        },
        "id": "VRUuCU6sfhpO",
        "outputId": "f57aae9d-98a8-4db2-8f55-d79b30d3c5e4"
      },
      "execution_count": 57,
      "outputs": [
        {
          "output_type": "stream",
          "name": "stdout",
          "text": [
            "Produtos em estoque:  299\n",
            "Produtos SEM estoque:  339\n",
            "Total de produtos:  638\n"
          ]
        }
      ]
    },
    {
      "cell_type": "markdown",
      "source": [
        "Bibliotecas para gráficos"
      ],
      "metadata": {
        "id": "BD173u21g-4B"
      }
    },
    {
      "cell_type": "code",
      "source": [
        "!pip install matplotlib\n",
        "!pip install numpy"
      ],
      "metadata": {
        "id": "IhLfU7LDhHLq"
      },
      "execution_count": null,
      "outputs": []
    },
    {
      "cell_type": "code",
      "source": [
        "import matplotlib.pyplot as plt\n",
        "import numpy as np\n",
        "from matplotlib.patches import Shadow"
      ],
      "metadata": {
        "id": "V4AbmuqPxeHx"
      },
      "execution_count": 97,
      "outputs": []
    },
    {
      "cell_type": "code",
      "source": [
        "labels = \"Com Estoque\", \"Sem Estoque\"\n",
        "sizes = [comEstoque, semEstoque]\n",
        "fig, grafico = plt.subplots()\n",
        "explode = (0.05, 0)\n",
        "grafico.pie(sizes,\n",
        "       explode = explode, \n",
        "       labels=labels, autopct='%1.2f%%',\n",
        "       pctdistance=.75, labeldistance=.3)\n",
        "plt.show()"
      ],
      "metadata": {
        "colab": {
          "base_uri": "https://localhost:8080/",
          "height": 248
        },
        "id": "3grPIfO3xsNp",
        "outputId": "08530926-fc59-4ad0-f379-c733ec03300c"
      },
      "execution_count": 103,
      "outputs": [
        {
          "output_type": "display_data",
          "data": {
            "text/plain": [
              "<Figure size 432x288 with 1 Axes>"
            ],
            "image/png": "[encoded data removed]"
          },
          "metadata": {}
        }
      ]
    },
    {
      "cell_type": "code",
      "source": [
        "label = \"Com Estoque\", \"Sem Estoque\", \"Total Estoque\"\n",
        "estoque = [comEstoque, semEstoque, total]\n",
        "\n",
        "plt.ylabel = \"Com Estoque\"\n",
        "plt.xlabel = \"Sem Estoque\"\n",
        "plt.plot(label, estoque)\n",
        "plt.show()"
      ],
      "metadata": {
        "colab": {
          "base_uri": "https://localhost:8080/",
          "height": 266
        },
        "id": "U0qhDbiu69q7",
        "outputId": "29e205c5-8d0f-448c-c561-bf8bfc398012"
      },
      "execution_count": 106,
      "outputs": [
        {
          "output_type": "display_data",
          "data": {
            "text/plain": [
              "<Figure size 432x288 with 1 Axes>"
            ],
            "image/png": "[encoded data removed]"
          },
          "metadata": {
            "needs_background": "light"
          }
        }
      ]
    }
  ]
}