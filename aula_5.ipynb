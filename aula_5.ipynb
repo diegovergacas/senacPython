{
  "nbformat": 4,
  "nbformat_minor": 0,
  "metadata": {
    "colab": {
      "provenance": []
    },
    "kernelspec": {
      "name": "python3",
      "display_name": "Python 3"
    },
    "language_info": {
      "name": "python"
    }
  },
  "cells": [
    {
      "cell_type": "markdown",
      "source": [
        "Escrevenda arquivo com PY\n",
        "\n",
        "*   w para escrita\n",
        "*   a para atualizar\n",
        "*   r para leitura\n"
      ],
      "metadata": {
        "id": "veqS_fcqAzrU"
      }
    },
    {
      "cell_type": "code",
      "execution_count": 3,
      "metadata": {
        "colab": {
          "base_uri": "https://localhost:8080/"
        },
        "id": "GVoeml7SAgWD",
        "outputId": "a62ba4c8-b616-495e-9c3d-cfebcb975d51"
      },
      "outputs": [
        {
          "name": "stdout",
          "output_type": "stream",
          "text": [
            "Informe o nome do paciente: Paciente 2\n",
            "Informe o email do paciente: parciente2@qaz.com\n",
            "Informe o celular do paciente: 11321654987\n",
            "Informe o tipó de exame: novo\n"
          ]
        }
      ],
      "source": [
        "# Escrevendo arquivo com python com função\n",
        "# w = write que é escrever em ingles\n",
        "\n",
        "nome = str(input('Informe o nome do paciente: '))\n",
        "email = str(input('Informe o email do paciente: '))\n",
        "celular = str(input('Informe o celular do paciente: '))\n",
        "exame = str(input('Informe o tipó de exame: '))\n",
        "\n",
        "with open(\"paciente.txt\", \"a\") as arquivo:\n",
        "  dados = nome + \";\" + email + \";\" + celular + \";\" + exame\n",
        "  arquivo.write(dados + \"\\n\")"
      ]
    },
    {
      "cell_type": "code",
      "source": [
        "with open(\"paciente.txt\", \"r\") as cadastro:\n",
        "  pacientes = cadastro.readlines()\n",
        "\n",
        "for paciente in pacientes:\n",
        "  print(paciente)"
      ],
      "metadata": {
        "colab": {
          "base_uri": "https://localhost:8080/"
        },
        "id": "oO7GLlSwIuSz",
        "outputId": "1ab0ea58-a4ff-4389-a98a-4a59e23a3bcd"
      },
      "execution_count": 6,
      "outputs": [
        {
          "output_type": "stream",
          "name": "stdout",
          "text": [
            "Diego;vergacas@gmail.com;11989234312;hemograma\n",
            "\n",
            "Paciente 2;parciente2@qaz.com;11321654987;novo\n",
            "\n"
          ]
        }
      ]
    },
    {
      "cell_type": "code",
      "source": [
        "# Retornar estoque\n",
        "with open(\"base_produtos.txt\", \"r\", encoding=\"utf-8\") as produtosEstiqueZerado:\n",
        "  produtosTXT = produtosEstiqueZerado.read()\n",
        "\n",
        "# Explodir a string\n"
      ],
      "metadata": {
        "id": "BvQv74C0NPi2"
      },
      "execution_count": null,
      "outputs": []
    },
    {
      "cell_type": "code",
      "source": [
        "!pip install twilio"
      ],
      "metadata": {
        "id": "RW06K9rAOQV1"
      },
      "execution_count": null,
      "outputs": []
    },
    {
      "cell_type": "code",
      "source": [
        "import os\n",
        "from twilio.rest import Client\n",
        "from datetime import datetime"
      ],
      "metadata": {
        "id": "0dHITk9mg0sM"
      },
      "execution_count": 17,
      "outputs": []
    },
    {
      "cell_type": "code",
      "source": [
        "account_sid = 'AC6624d144b7e79b60d8a10cf80aff3bca'\n",
        "auth_token = 'c040f840e3a0497e3654c7b61ff17344'\n",
        "client = Client(account_sid, auth_token)"
      ],
      "metadata": {
        "id": "Wcmz-RPYhrYT"
      },
      "execution_count": 12,
      "outputs": []
    },
    {
      "cell_type": "code",
      "source": [
        "def number(numeros):\n",
        "  numeros = []\n",
        "  i = 0\n",
        "  while numeros:\n",
        "    item = input('Informa o número: ')\n",
        "    numeros.append(item)\n",
        "    i += 1\n",
        "    if i >=2:\n",
        "      break"
      ],
      "metadata": {
        "id": "Qes2qmEnpj5w"
      },
      "execution_count": 40,
      "outputs": []
    },
    {
      "cell_type": "code",
      "source": [
        "def enviaSMS(mensagem):\n",
        "  data = datetime.now()\n",
        "  number = \"+5511971954773\"\n",
        "  client = Client(account_sid, auth_token)\n",
        "  message = client.messages \\\n",
        "                .create(\n",
        "                     body = '{} / {}'.format(data,mensagem),\n",
        "                     from_=number,\n",
        "                     to=number\n",
        "                     )\n",
        "  return message.sid"
      ],
      "metadata": {
        "id": "qHjYRkSrkvev"
      },
      "execution_count": 41,
      "outputs": []
    },
    {
      "cell_type": "code",
      "source": [
        "enviaSMS(\"teste_5\")"
      ],
      "metadata": {
        "colab": {
          "base_uri": "https://localhost:8080/",
          "height": 311
        },
        "id": "QkeHNfeximii",
        "outputId": "93d73325-f5b2-4a32-8e98-2d6ffc030eaa"
      },
      "execution_count": 42,
      "outputs": [
        {
          "output_type": "error",
          "ename": "TwilioRestException",
          "evalue": "ignored",
          "traceback": [
            "\u001b[0;31m---------------------------------------------------------------------------\u001b[0m",
            "\u001b[0;31mTwilioRestException\u001b[0m                       Traceback (most recent call last)",
            "\u001b[0;32m<ipython-input-42-6c6c487bb24f>\u001b[0m in \u001b[0;36m<module>\u001b[0;34m\u001b[0m\n\u001b[0;32m----> 1\u001b[0;31m \u001b[0menviaSMS\u001b[0m\u001b[0;34m(\u001b[0m\u001b[0;34m\"teste_5\"\u001b[0m\u001b[0;34m)\u001b[0m\u001b[0;34m\u001b[0m\u001b[0;34m\u001b[0m\u001b[0m\n\u001b[0m",
            "\u001b[0;32m<ipython-input-41-cbf7c191431e>\u001b[0m in \u001b[0;36menviaSMS\u001b[0;34m(mensagem)\u001b[0m\n\u001b[1;32m      3\u001b[0m   \u001b[0mnumber\u001b[0m \u001b[0;34m=\u001b[0m \u001b[0;34m\"+5511971954773\"\u001b[0m\u001b[0;34m\u001b[0m\u001b[0;34m\u001b[0m\u001b[0m\n\u001b[1;32m      4\u001b[0m   \u001b[0mclient\u001b[0m \u001b[0;34m=\u001b[0m \u001b[0mClient\u001b[0m\u001b[0;34m(\u001b[0m\u001b[0maccount_sid\u001b[0m\u001b[0;34m,\u001b[0m \u001b[0mauth_token\u001b[0m\u001b[0;34m)\u001b[0m\u001b[0;34m\u001b[0m\u001b[0;34m\u001b[0m\u001b[0m\n\u001b[0;32m----> 5\u001b[0;31m   \u001b[0mmessage\u001b[0m \u001b[0;34m=\u001b[0m \u001b[0mclient\u001b[0m\u001b[0;34m.\u001b[0m\u001b[0mmessages\u001b[0m\u001b[0;31m \u001b[0m\u001b[0;31m\\\u001b[0m\u001b[0;34m\u001b[0m\u001b[0;34m\u001b[0m\u001b[0m\n\u001b[0m\u001b[1;32m      6\u001b[0m                 .create(\n\u001b[1;32m      7\u001b[0m                      \u001b[0mbody\u001b[0m \u001b[0;34m=\u001b[0m \u001b[0;34m'{} / {}'\u001b[0m\u001b[0;34m.\u001b[0m\u001b[0mformat\u001b[0m\u001b[0;34m(\u001b[0m\u001b[0mdata\u001b[0m\u001b[0;34m,\u001b[0m\u001b[0mmensagem\u001b[0m\u001b[0;34m)\u001b[0m\u001b[0;34m,\u001b[0m\u001b[0;34m\u001b[0m\u001b[0;34m\u001b[0m\u001b[0m\n",
            "\u001b[0;32m/usr/local/lib/python3.9/dist-packages/twilio/rest/api/v2010/account/message/__init__.py\u001b[0m in \u001b[0;36mcreate\u001b[0;34m(self, to, status_callback, application_sid, max_price, provide_feedback, attempt, validity_period, force_delivery, content_retention, address_retention, smart_encoded, persistent_action, shorten_urls, schedule_type, send_at, send_as_mms, content_sid, content_variables, from_, messaging_service_sid, body, media_url)\u001b[0m\n\u001b[1;32m    101\u001b[0m         })\n\u001b[1;32m    102\u001b[0m \u001b[0;34m\u001b[0m\u001b[0m\n\u001b[0;32m--> 103\u001b[0;31m         \u001b[0mpayload\u001b[0m \u001b[0;34m=\u001b[0m \u001b[0mself\u001b[0m\u001b[0;34m.\u001b[0m\u001b[0m_version\u001b[0m\u001b[0;34m.\u001b[0m\u001b[0mcreate\u001b[0m\u001b[0;34m(\u001b[0m\u001b[0mmethod\u001b[0m\u001b[0;34m=\u001b[0m\u001b[0;34m'POST'\u001b[0m\u001b[0;34m,\u001b[0m \u001b[0muri\u001b[0m\u001b[0;34m=\u001b[0m\u001b[0mself\u001b[0m\u001b[0;34m.\u001b[0m\u001b[0m_uri\u001b[0m\u001b[0;34m,\u001b[0m \u001b[0mdata\u001b[0m\u001b[0;34m=\u001b[0m\u001b[0mdata\u001b[0m\u001b[0;34m,\u001b[0m \u001b[0;34m)\u001b[0m\u001b[0;34m\u001b[0m\u001b[0;34m\u001b[0m\u001b[0m\n\u001b[0m\u001b[1;32m    104\u001b[0m \u001b[0;34m\u001b[0m\u001b[0m\n\u001b[1;32m    105\u001b[0m         \u001b[0;32mreturn\u001b[0m \u001b[0mMessageInstance\u001b[0m\u001b[0;34m(\u001b[0m\u001b[0mself\u001b[0m\u001b[0;34m.\u001b[0m\u001b[0m_version\u001b[0m\u001b[0;34m,\u001b[0m \u001b[0mpayload\u001b[0m\u001b[0;34m,\u001b[0m \u001b[0maccount_sid\u001b[0m\u001b[0;34m=\u001b[0m\u001b[0mself\u001b[0m\u001b[0;34m.\u001b[0m\u001b[0m_solution\u001b[0m\u001b[0;34m[\u001b[0m\u001b[0;34m'account_sid'\u001b[0m\u001b[0;34m]\u001b[0m\u001b[0;34m,\u001b[0m \u001b[0;34m)\u001b[0m\u001b[0;34m\u001b[0m\u001b[0;34m\u001b[0m\u001b[0m\n",
            "\u001b[0;32m/usr/local/lib/python3.9/dist-packages/twilio/base/version.py\u001b[0m in \u001b[0;36mcreate\u001b[0;34m(self, method, uri, params, data, headers, auth, timeout, allow_redirects)\u001b[0m\n\u001b[1;32m    203\u001b[0m \u001b[0;34m\u001b[0m\u001b[0m\n\u001b[1;32m    204\u001b[0m         \u001b[0;32mif\u001b[0m \u001b[0mresponse\u001b[0m\u001b[0;34m.\u001b[0m\u001b[0mstatus_code\u001b[0m \u001b[0;34m<\u001b[0m \u001b[0;36m200\u001b[0m \u001b[0;32mor\u001b[0m \u001b[0mresponse\u001b[0m\u001b[0;34m.\u001b[0m\u001b[0mstatus_code\u001b[0m \u001b[0;34m>=\u001b[0m \u001b[0;36m300\u001b[0m\u001b[0;34m:\u001b[0m\u001b[0;34m\u001b[0m\u001b[0;34m\u001b[0m\u001b[0m\n\u001b[0;32m--> 205\u001b[0;31m             \u001b[0;32mraise\u001b[0m \u001b[0mself\u001b[0m\u001b[0;34m.\u001b[0m\u001b[0mexception\u001b[0m\u001b[0;34m(\u001b[0m\u001b[0mmethod\u001b[0m\u001b[0;34m,\u001b[0m \u001b[0muri\u001b[0m\u001b[0;34m,\u001b[0m \u001b[0mresponse\u001b[0m\u001b[0;34m,\u001b[0m \u001b[0;34m'Unable to create record'\u001b[0m\u001b[0;34m)\u001b[0m\u001b[0;34m\u001b[0m\u001b[0;34m\u001b[0m\u001b[0m\n\u001b[0m\u001b[1;32m    206\u001b[0m \u001b[0;34m\u001b[0m\u001b[0m\n\u001b[1;32m    207\u001b[0m         \u001b[0;32mreturn\u001b[0m \u001b[0mjson\u001b[0m\u001b[0;34m.\u001b[0m\u001b[0mloads\u001b[0m\u001b[0;34m(\u001b[0m\u001b[0mresponse\u001b[0m\u001b[0;34m.\u001b[0m\u001b[0mtext\u001b[0m\u001b[0;34m)\u001b[0m\u001b[0;34m\u001b[0m\u001b[0;34m\u001b[0m\u001b[0m\n",
            "\u001b[0;31mTwilioRestException\u001b[0m: HTTP 400 error: Unable to create record: The 'To' number +5511971954773 is not a valid phone number."
          ]
        }
      ]
    }
  ]
}