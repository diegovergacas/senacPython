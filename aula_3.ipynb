{
  "nbformat": 4,
  "nbformat_minor": 0,
  "metadata": {
    "colab": {
      "provenance": []
    },
    "kernelspec": {
      "name": "python3",
      "display_name": "Python 3"
    },
    "language_info": {
      "name": "python"
    }
  },
  "cells": [
    {
      "cell_type": "markdown",
      "source": [
        "Listas"
      ],
      "metadata": {
        "id": "pxgGEUnb86JX"
      }
    },
    {
      "cell_type": "code",
      "execution_count": 37,
      "metadata": {
        "colab": {
          "base_uri": "https://localhost:8080/"
        },
        "id": "MINEGoSb5U7X",
        "outputId": "16b6b473-b8b5-4716-ecf2-49af20a2d1c0"
      },
      "outputs": [
        {
          "output_type": "stream",
          "name": "stdout",
          "text": [
            "Informa os nomes ou tipos de produtos: a\n",
            "Informa os nomes ou tipos de produtos: s\n",
            "Informa os nomes ou tipos de produtos: d\n",
            "['batata', 'a', 's', 'd']\n"
          ]
        }
      ],
      "source": [
        "f# Adicionando varios itens em uma lista\n",
        "produtos = ['batata']\n",
        "\n",
        "i = 0\n",
        "while produtos:\n",
        "  item = input('Informa os nomes ou tipos de produtos: ')\n",
        "  produtos.append(item)\n",
        "  i += 1\n",
        "  if i >=3:\n",
        "    break\n",
        "\n",
        "print(produtos)"
      ]
    },
    {
      "cell_type": "code",
      "source": [
        "# contar a quantidade de elementos que temos em um lista usamos função len()\n",
        "print(len(produtos))"
      ],
      "metadata": {
        "colab": {
          "base_uri": "https://localhost:8080/"
        },
        "id": "O3pr4-KWFcE4",
        "outputId": "52a524d7-da68-4a25-99f0-a32c5864d09b"
      },
      "execution_count": 38,
      "outputs": [
        {
          "output_type": "stream",
          "name": "stdout",
          "text": [
            "4\n"
          ]
        }
      ]
    },
    {
      "cell_type": "code",
      "source": [
        "# limpando um conteúdo de uma lista\n",
        "produtos.clear()\n",
        "print(len(produtos))\n",
        "print(produtos)"
      ],
      "metadata": {
        "colab": {
          "base_uri": "https://localhost:8080/"
        },
        "id": "S_aTmhJhFslR",
        "outputId": "8e2ddc62-f8d2-4ca2-f743-a84787a9db7d"
      },
      "execution_count": 39,
      "outputs": [
        {
          "output_type": "stream",
          "name": "stdout",
          "text": [
            "0\n",
            "[]\n"
          ]
        }
      ]
    },
    {
      "cell_type": "markdown",
      "source": [
        "Repetição"
      ],
      "metadata": {
        "id": "gigiWf8MGfmv"
      }
    },
    {
      "cell_type": "code",
      "source": [
        "# estrutura de um for\n",
        "for i in range(10):\n",
        "  print(i+1) #ser colocar i+1 ele começa em 1 e vai ate o numero escolido"
      ],
      "metadata": {
        "colab": {
          "base_uri": "https://localhost:8080/"
        },
        "id": "SdDjye-CGkJ_",
        "outputId": "d43401a3-592b-4bb6-e0a9-8bd0c1e9713a"
      },
      "execution_count": 40,
      "outputs": [
        {
          "output_type": "stream",
          "name": "stdout",
          "text": [
            "1\n",
            "2\n",
            "3\n",
            "4\n",
            "5\n",
            "6\n",
            "7\n",
            "8\n",
            "9\n",
            "10\n"
          ]
        }
      ]
    },
    {
      "cell_type": "code",
      "source": [
        "#\n",
        "carros = ['meriva', 'maverick', 'celta', 'onix', 'palio', 'focus', 'idea']\n",
        "\n",
        "for carro in carros:\n",
        "  print(carro)"
      ],
      "metadata": {
        "colab": {
          "base_uri": "https://localhost:8080/"
        },
        "id": "p3wwcKaMHXTn",
        "outputId": "95e989f8-1cb4-4e5e-d98d-c672a3c39d85"
      },
      "execution_count": 41,
      "outputs": [
        {
          "output_type": "stream",
          "name": "stdout",
          "text": [
            "meriva\n",
            "maverick\n",
            "celta\n",
            "onix\n",
            "palio\n",
            "focus\n",
            "idea\n"
          ]
        }
      ]
    },
    {
      "cell_type": "code",
      "source": [
        "\n",
        "lucro = 0.15\n",
        "valorCompra = [100.50, 178.90, 98.70, 102.30]\n",
        "\n",
        "for i , valorVenda in enumerate(valorCompra):\n",
        "  result = valorVenda * lucro + valorCompra[i]\n",
        "\n",
        "  print('{} - {:,.2f}'.format(i,result))"
      ],
      "metadata": {
        "colab": {
          "base_uri": "https://localhost:8080/"
        },
        "id": "OSyNvVcjKSZo",
        "outputId": "801e6a5a-48be-47d7-f386-bcb1340df3f1"
      },
      "execution_count": 42,
      "outputs": [
        {
          "output_type": "stream",
          "name": "stdout",
          "text": [
            "0 - 115.58\n",
            "1 - 205.74\n",
            "2 - 113.50\n",
            "3 - 117.64\n"
          ]
        }
      ]
    },
    {
      "cell_type": "code",
      "source": [
        "produtos = ['Engenharia de software V1', 'Empreendorismo', 'Código limpo', 'Sociedade em rede será vendio']\n",
        "valorCompra = [100.50, 178.90, 98.70, 102.30]\n",
        "\n",
        "for i in range(4):\n",
        "  print(f'{1}, {produtos[i]} será vendido por {valorCompra[i]:,.2f}')"
      ],
      "metadata": {
        "colab": {
          "base_uri": "https://localhost:8080/"
        },
        "id": "KKMak9tZOAhF",
        "outputId": "f36806e0-578a-4c99-9f6e-3480e8f96fe3"
      },
      "execution_count": 43,
      "outputs": [
        {
          "output_type": "stream",
          "name": "stdout",
          "text": [
            "1, Engenharia de software V1 será vendido por 100.50\n",
            "1, Empreendorismo será vendido por 178.90\n",
            "1, Código limpo será vendido por 98.70\n",
            "1, Sociedade em rede será vendio será vendido por 102.30\n"
          ]
        }
      ]
    },
    {
      "cell_type": "code",
      "source": [
        "produtos = ['Engenharia de software V1', 'Empreendorismo', 'Código limpo', 'Sociedade em rede será vendio']\n",
        "valorCompra = [100.50, 178.90, 98.70, 102.30, 5]\n",
        "\n",
        "x = len(produtos)\n",
        "y = len(valorCompra)\n",
        "\n",
        "if x == y:\n",
        "  for i in range(4):\n",
        "    print(f'{1}, {produtos[i]} será vendido por {valorCompra[i]:,.2f}')\n",
        "else:\n",
        "  print('erro de quantidade de valores')"
      ],
      "metadata": {
        "colab": {
          "base_uri": "https://localhost:8080/"
        },
        "id": "XpDT7I-qQv4l",
        "outputId": "ca04bdf7-f0a0-4cec-b70c-0d46a9bd96e1"
      },
      "execution_count": 44,
      "outputs": [
        {
          "output_type": "stream",
          "name": "stdout",
          "text": [
            "erro de quantidade de valores\n"
          ]
        }
      ]
    },
    {
      "cell_type": "code",
      "source": [
        "produtos = ['Engenharia de software V1', 'Empreendorismo', 'Código limpo', 'Sociedade em rede será vendio']\n",
        "valorCompra = [100.50, 178.90, 98.70, 202.30]\n",
        "\n",
        "x = len(produtos)\n",
        "y = len(valorCompra)\n",
        "\n",
        "if x == y:\n",
        "  for i in range(4):\n",
        "    if valorCompra[i] >= 120.00:\n",
        "      valorPromocional = valorCompra[i] - 10\n",
        "      print(f'{i}, {produtos[i]} de {valorCompra[i]:,.2f} para {valorPromocional:,.2f} - PROMOÇÃO')\n",
        "else:\n",
        "  print('erro de quantidade de valores')"
      ],
      "metadata": {
        "colab": {
          "base_uri": "https://localhost:8080/"
        },
        "id": "OepvKBb9bC3F",
        "outputId": "a90946c2-6a50-43c9-9d5e-960e1c701689"
      },
      "execution_count": 45,
      "outputs": [
        {
          "output_type": "stream",
          "name": "stdout",
          "text": [
            "1, Empreendorismo de 178.90 para 168.90 - PROMOÇÃO\n",
            "3, Sociedade em rede será vendio de 202.30 para 192.30 - PROMOÇÃO\n"
          ]
        }
      ]
    },
    {
      "cell_type": "code",
      "source": [
        "# faça um FOR de 0 a 200 apenas números impares\n",
        "n = 0\n",
        "for n in range(20):\n",
        "  if n % 2:\n",
        "    print(n)"
      ],
      "metadata": {
        "colab": {
          "base_uri": "https://localhost:8080/"
        },
        "id": "28KhJRficxoW",
        "outputId": "18f1de06-8674-4296-fa37-419479be49ad"
      },
      "execution_count": 35,
      "outputs": [
        {
          "output_type": "stream",
          "name": "stdout",
          "text": [
            "1\n",
            "3\n",
            "5\n",
            "7\n",
            "9\n",
            "11\n",
            "13\n",
            "15\n",
            "17\n",
            "19\n"
          ]
        }
      ]
    },
    {
      "cell_type": "code",
      "source": [
        "# faça um FOR de uma lista que contém 10 itens que é vendido no supermercado\n",
        "produtos = ['Itens: ']\n",
        "\n",
        "i = 0\n",
        "while produtos:\n",
        "  item = input('Informe os nome dos itens da lista do mercado: ')\n",
        "  produtos.append(item)\n",
        "  i += 1\n",
        "  if i >=10:\n",
        "    break\n",
        "\n",
        "print(produtos)"
      ],
      "metadata": {
        "colab": {
          "base_uri": "https://localhost:8080/"
        },
        "id": "AgKCDB_NhL-i",
        "outputId": "649da651-d7b7-473e-ea30-aaf743ec1f47"
      },
      "execution_count": 36,
      "outputs": [
        {
          "output_type": "stream",
          "name": "stdout",
          "text": [
            "Informe os nome dos itens da lista do mercado: a\n",
            "Informe os nome dos itens da lista do mercado: s\n",
            "Informe os nome dos itens da lista do mercado: d\n",
            "Informe os nome dos itens da lista do mercado: f\n",
            "Informe os nome dos itens da lista do mercado: g\n",
            "Informe os nome dos itens da lista do mercado: h\n",
            "Informe os nome dos itens da lista do mercado: j\n",
            "Informe os nome dos itens da lista do mercado: k\n",
            "Informe os nome dos itens da lista do mercado: l\n",
            "Informe os nome dos itens da lista do mercado: ç\n",
            "['Itens: ', 'a', 's', 'd', 'f', 'g', 'h', 'j', 'k', 'l', 'ç']\n"
          ]
        }
      ]
    },
    {
      "cell_type": "code",
      "source": [
        "# faça uma lista de itens e preços onde o produto que estiver com valor acima de 10.00 aplique um desconto de 25%\n",
        "# e imprima o nome do produto sendo que a primeira letra do nome seja maiuscula o valor sem desconto e o valor\n",
        "# com desconto e formatada com duas casas decimais\n",
        "\n",
        "produtos = ['iten 1', 'iten 2', 'iten 3', 'iten 4', 'iten 5']\n",
        "valor = [9.00, 18.00, 9.99, 0.50, 45.00]\n",
        "\n",
        "x = len(produtos)\n",
        "y = len(valor)\n",
        "\n",
        "if x == y:\n",
        "  for i in range(x):\n",
        "    produtos[i] = produtos[i].capitalize()\n",
        "    if valor[i] >= 10.00:\n",
        "      valorPromocional = valor[i] - (valor[i] * 0.25)\n",
        "      print(f'{produtos[i]} de {valor[i]:,.2f} para {valorPromocional:,.2f}')\n",
        "    else:\n",
        "      print(f'{produtos[i]} de {valor[i]:,.2f} não teve desconto')\n",
        "else:\n",
        "  print('Números de produtos diferente do números de valores')"
      ],
      "metadata": {
        "colab": {
          "base_uri": "https://localhost:8080/"
        },
        "id": "eH_frgk1iXMn",
        "outputId": "734e0561-1a63-4b29-ad6e-063706454e7d"
      },
      "execution_count": 47,
      "outputs": [
        {
          "output_type": "stream",
          "name": "stdout",
          "text": [
            "Iten 1 de 9.00 não teve desconto\n",
            "Iten 2 de 18.00 para 13.50\n",
            "Iten 3 de 9.99 não teve desconto\n",
            "Iten 4 de 0.50 não teve desconto\n",
            "Iten 5 de 45.00 para 33.75\n"
          ]
        }
      ]
    }
  ]
}