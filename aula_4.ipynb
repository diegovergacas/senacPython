{
  "nbformat": 4,
  "nbformat_minor": 0,
  "metadata": {
    "colab": {
      "provenance": []
    },
    "kernelspec": {
      "name": "python3",
      "display_name": "Python 3"
    },
    "language_info": {
      "name": "python"
    }
  },
  "cells": [
    {
      "cell_type": "code",
      "execution_count": 4,
      "metadata": {
        "id": "drhNi8TOO6ta"
      },
      "outputs": [],
      "source": [
        "from datetime import date"
      ]
    },
    {
      "cell_type": "code",
      "source": [
        "# Retorando s data atual do sistema\n",
        "data = date.today()\n",
        "print(data)"
      ],
      "metadata": {
        "colab": {
          "base_uri": "https://localhost:8080/"
        },
        "id": "snkt4s7WhHAS",
        "outputId": "e2df2e36-b404-41b4-aa43-d114372d3dd3"
      },
      "execution_count": 5,
      "outputs": [
        {
          "output_type": "stream",
          "name": "stdout",
          "text": [
            "2023-03-09\n"
          ]
        }
      ]
    },
    {
      "cell_type": "code",
      "source": [
        "# Formatando para pt.br\n",
        "data = date.today()\n",
        "dataFormatoBrasileiro = '{}/{}/{}'.format(data.day,data.month,data.year)\n",
        "print(dataFormatoBrasileiro)"
      ],
      "metadata": {
        "colab": {
          "base_uri": "https://localhost:8080/"
        },
        "id": "lPVbRnZdj4pI",
        "outputId": "6cc013e8-b070-4aba-da01-0827791ed214"
      },
      "execution_count": 6,
      "outputs": [
        {
          "output_type": "stream",
          "name": "stdout",
          "text": [
            "9/3/2023\n"
          ]
        }
      ]
    },
    {
      "cell_type": "code",
      "source": [
        "# Melhorando a nossa formatação\n",
        "data = date.today()\n",
        "dataFormatoBrasileiro = data.strftime('%d/%m/%Y')\n",
        "print(dataFormatoBrasileiro)"
      ],
      "metadata": {
        "colab": {
          "base_uri": "https://localhost:8080/"
        },
        "id": "pZTdKMtdkizg",
        "outputId": "a0e23733-e885-4462-9027-2fddae9b91eb"
      },
      "execution_count": 7,
      "outputs": [
        {
          "output_type": "stream",
          "name": "stdout",
          "text": [
            "09/03/2023\n"
          ]
        }
      ]
    },
    {
      "cell_type": "code",
      "source": [
        "# DataTime\n",
        "from datetime import datetime\n",
        "data = datetime.now()\n",
        "print(data)"
      ],
      "metadata": {
        "colab": {
          "base_uri": "https://localhost:8080/"
        },
        "id": "Gss5sIvGnH7V",
        "outputId": "310411fc-a2e6-4dd4-9cfd-b1b1e6f0716f"
      },
      "execution_count": 12,
      "outputs": [
        {
          "output_type": "stream",
          "name": "stdout",
          "text": [
            "2023-03-09 14:28:07.101232\n"
          ]
        }
      ]
    },
    {
      "cell_type": "code",
      "source": [
        "dataAtual = datetime.now()\n",
        "dataEhoraFormatada = dataAtual.strftime('%d/%m/%y %H:%H')\n",
        "print(dataEhoraFormatada)"
      ],
      "metadata": {
        "colab": {
          "base_uri": "https://localhost:8080/"
        },
        "id": "gPzqY6X3w666",
        "outputId": "4e5fff71-c628-43c5-b2a7-7289c3f5a522"
      },
      "execution_count": 13,
      "outputs": [
        {
          "output_type": "stream",
          "name": "stdout",
          "text": [
            "09/03/23 14:14\n"
          ]
        }
      ]
    },
    {
      "cell_type": "code",
      "source": [
        "from datetime import datetime\n",
        "from pytz import timezone\n",
        "\n",
        "dataHoraAtual = datetime.now()\n",
        "fusoHorario = timezone('America/Sao_Paulo')\n",
        "dataSP = dataHoraAtual.astimezone(fusoHorario)\n",
        "dataSPFormatada = dataSP.strftime('%d/%m/%Y %H:%H')\n",
        "print(dataSPFormatada)"
      ],
      "metadata": {
        "colab": {
          "base_uri": "https://localhost:8080/"
        },
        "id": "oywahlsgyhNG",
        "outputId": "b6986a56-64f9-46e5-e119-483c2fe72756"
      },
      "execution_count": 14,
      "outputs": [
        {
          "output_type": "stream",
          "name": "stdout",
          "text": [
            "09/03/2023 11:11\n"
          ]
        }
      ]
    },
    {
      "cell_type": "code",
      "source": [
        "# Adicional dias em uma data\n",
        "from datetime import datetime, timedelta, date\n",
        "\n",
        "dataAtual = date.today()\n",
        "novaData = dataAtual + timedelta(days=5)\n",
        "print(novaData.strftime('%d/%m/%Y'))"
      ],
      "metadata": {
        "colab": {
          "base_uri": "https://localhost:8080/"
        },
        "id": "7oIAJWbs0at_",
        "outputId": "ac722257-7c8a-4ced-e8bc-cb640d5fca97"
      },
      "execution_count": 15,
      "outputs": [
        {
          "output_type": "stream",
          "name": "stdout",
          "text": [
            "14/03/2023\n"
          ]
        }
      ]
    },
    {
      "cell_type": "code",
      "source": [
        "from datetime import date\n",
        "from dateutil.relativedelta import relativedelta\n",
        "\n",
        "data = date(2023,3,9)\n",
        "data = data + relativedelta(months=1)\n",
        "print(data)"
      ],
      "metadata": {
        "colab": {
          "base_uri": "https://localhost:8080/"
        },
        "id": "kDfgYDpy2DTj",
        "outputId": "ee6d8abd-11b5-4006-abe9-eb5e860f6a47"
      },
      "execution_count": 22,
      "outputs": [
        {
          "output_type": "stream",
          "name": "stdout",
          "text": [
            "2023-04-09\n"
          ]
        }
      ]
    },
    {
      "cell_type": "code",
      "source": [
        "from datetime import date\n",
        "from dateutil.relativedelta import relativedelta\n",
        "\n",
        "data = date(2023,3,9)\n",
        "data = data + relativedelta(years=1)\n",
        "print(data)"
      ],
      "metadata": {
        "colab": {
          "base_uri": "https://localhost:8080/"
        },
        "id": "qUHoL4AV4bKx",
        "outputId": "ddfbe89c-a2b2-4c9f-e587-d9b442642b36"
      },
      "execution_count": 23,
      "outputs": [
        {
          "output_type": "stream",
          "name": "stdout",
          "text": [
            "2024-03-09\n"
          ]
        }
      ]
    }
  ]
}