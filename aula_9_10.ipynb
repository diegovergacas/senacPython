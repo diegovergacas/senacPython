{
  "nbformat": 4,
  "nbformat_minor": 0,
  "metadata": {
    "colab": {
      "provenance": []
    },
    "kernelspec": {
      "name": "python3",
      "display_name": "Python 3"
    },
    "language_info": {
      "name": "python"
    }
  },
  "cells": [
    {
      "cell_type": "code",
      "execution_count": null,
      "metadata": {
        "id": "vwXcFiSXDbFa"
      },
      "outputs": [],
      "source": [
        "!pip install pandas\n",
        "!pip install numpy"
      ]
    },
    {
      "cell_type": "code",
      "source": [
        "import pandas as pd"
      ],
      "metadata": {
        "id": "el-p5zroGPmr"
      },
      "execution_count": 1,
      "outputs": []
    },
    {
      "cell_type": "code",
      "source": [
        "produtosDF = pd.read_csv('/content/drive/MyDrive/SENAC Python/produtos_csv.csv', sep=';')\n",
        "produtosDF"
      ],
      "metadata": {
        "id": "6QACKHCWGUaS"
      },
      "execution_count": null,
      "outputs": []
    },
    {
      "cell_type": "code",
      "source": [
        "produtosDF['titulo']"
      ],
      "metadata": {
        "id": "Y1fYXxvvMXB8"
      },
      "execution_count": null,
      "outputs": []
    },
    {
      "cell_type": "code",
      "source": [
        "produtosDF.info()"
      ],
      "metadata": {
        "id": "IS6vUR3oPd3C"
      },
      "execution_count": null,
      "outputs": []
    },
    {
      "cell_type": "code",
      "source": [
        "# Listar uma serie de colunas\n",
        "colunas = ['id_produto','titulo','estoque']\n",
        "produtosDF[colunas]"
      ],
      "metadata": {
        "id": "smuAPoutQj2o"
      },
      "execution_count": null,
      "outputs": []
    },
    {
      "cell_type": "code",
      "source": [
        "# Listando uma serie de colunas mais elegantes\n",
        "lista = ['id_produto','titulo','estoque']\n",
        "prodDF = produtosDF"
      ],
      "metadata": {
        "id": "SOdDiaYKRM-I"
      },
      "execution_count": 11,
      "outputs": []
    },
    {
      "cell_type": "code",
      "source": [
        "# Listando as 5 primeiras linhas \n",
        "prodDF[:5]"
      ],
      "metadata": {
        "id": "Aquu0X97RfcQ"
      },
      "execution_count": null,
      "outputs": []
    },
    {
      "cell_type": "code",
      "source": [
        "produtosDF['titulo'][1]"
      ],
      "metadata": {
        "id": "WVdsJccxRtI_"
      },
      "execution_count": null,
      "outputs": []
    },
    {
      "cell_type": "code",
      "source": [
        "df_produtos = pd.read_csv('/content/drive/MyDrive/SENAC Python/produtos_csv.csv', sep=';', encoding='utf-8')\n",
        "df_clientes = pd.read_csv('/content/drive/MyDrive/SENAC Python/cliente.csv', sep=';', encoding='utf-8')\n",
        "df_vendas = pd.read_csv('/content/drive/MyDrive/SENAC Python/vendasTratada.csv', sep=',', encoding='utf-8')\n"
      ],
      "metadata": {
        "id": "CxuaD4URR4m4"
      },
      "execution_count": 13,
      "outputs": []
    },
    {
      "cell_type": "code",
      "source": [
        "display(df_produtos.info())\n",
        "display(df_clientes.info())\n",
        "display(df_vendas.info())"
      ],
      "metadata": {
        "id": "C_P0_ff9VThC"
      },
      "execution_count": null,
      "outputs": []
    },
    {
      "cell_type": "code",
      "source": [
        "# Removendo colunas ou linas do DF por meio da função drop\n",
        "\n",
        "df_produtos = df_produtos.drop(['cfop','codigo_ncm','icms_situacao_tributaria',\n",
        "                                'icms_origem','pis_situacao_tributaria','cofins_situacao_tributaria',\n",
        "                                'ipi_situacao_tributaria','ipi_codigo_enquadramento_legal'],\n",
        "                               axis=1)\n",
        "display(df_produtos.info())"
      ],
      "metadata": {
        "id": "XFhR5egWZZW3"
      },
      "execution_count": null,
      "outputs": []
    },
    {
      "cell_type": "code",
      "source": [
        "# Selecionando colunas, devemos criar uma lista com as colunas desejadas\n",
        "colunas = ['id','nome','email','sexo']\n",
        "df_cliente = df_clientes[colunas]\n",
        "df_cliente"
      ],
      "metadata": {
        "id": "sWqRyUb5ckfs"
      },
      "execution_count": null,
      "outputs": []
    },
    {
      "cell_type": "code",
      "source": [
        "display(df_cliente.info())\n",
        "display(df_vendas.info())"
      ],
      "metadata": {
        "id": "MZG8xhfXmLrG"
      },
      "execution_count": null,
      "outputs": []
    },
    {
      "cell_type": "code",
      "source": [
        "# Renomeando a coluna id para id_cliente do dataframe df_cliente\n",
        "df_cliente = df_cliente.rename(columns={'id':'id_cliente'})\n",
        "df_cliente"
      ],
      "metadata": {
        "id": "8_zG9H8Zpddt"
      },
      "execution_count": null,
      "outputs": []
    },
    {
      "cell_type": "code",
      "source": [
        "# Melhorando a visualização da df vendas\n",
        "colunas_vendas = ['id_cliente','quantidade','data','num_pedido','tipoFrete','valor_total']\n",
        "df_vendas = df_vendas[colunas_vendas]\n",
        "display(df_vendas.info())"
      ],
      "metadata": {
        "id": "VPE5zoRcq3Aq"
      },
      "execution_count": null,
      "outputs": []
    },
    {
      "cell_type": "code",
      "source": [
        "# Realizando o merge com df organizados\n",
        "dataAnalize = df_cliente.merge(df_vendas, on='id_cliente')\n",
        "dataAnalize"
      ],
      "metadata": {
        "id": "-OplHSszsNoK"
      },
      "execution_count": null,
      "outputs": []
    },
    {
      "cell_type": "markdown",
      "source": [
        "AULA 10"
      ],
      "metadata": {
        "id": "LlWqud6icys4"
      }
    },
    {
      "cell_type": "code",
      "source": [
        "# Clientes que mais comprou\n",
        "clientesEspecial = dataAnalize['nome'].value_counts()\n",
        "display(clientesEspecial)"
      ],
      "metadata": {
        "colab": {
          "base_uri": "https://localhost:8080/",
          "height": 225
        },
        "id": "P2jkpUuBc0L4",
        "outputId": "31e76479-b67e-4ab7-919a-5354d894b387"
      },
      "execution_count": 22,
      "outputs": [
        {
          "output_type": "display_data",
          "data": {
            "text/plain": [
              "Isabel Gomes Pereira                  401\n",
              "Luiz Claudio Marques Coutinho         203\n",
              "Iolanda Maria Costa Silva             164\n",
              "cleonice de fatima ferreira pessoa     85\n",
              "Gabriel William de Andrade             84\n",
              "                                     ... \n",
              "Artur Pinheiro do Val                   1\n",
              "Oswaldo R Zietlow                       1\n",
              "CECILIA TAMASHIRO                       1\n",
              "daniele yukari nakasaki vertuan         1\n",
              "Ricardo Melo Rasquinho                  1\n",
              "Name: nome, Length: 4980, dtype: int64"
            ]
          },
          "metadata": {}
        }
      ]
    },
    {
      "cell_type": "code",
      "source": [],
      "metadata": {
        "id": "DCKFf4Sjdcmy"
      },
      "execution_count": null,
      "outputs": []
    }
  ]
}